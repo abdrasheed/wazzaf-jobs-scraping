{
 "cells": [
  {
   "cell_type": "markdown",
   "id": "bca73cd4",
   "metadata": {},
   "source": [
    "### Scrape Jobs Data From Wuzzaf site"
   ]
  },
  {
   "cell_type": "markdown",
   "id": "2cf4048a",
   "metadata": {},
   "source": [
    "1- Import Necessary Libraries"
   ]
  },
  {
   "cell_type": "code",
   "execution_count": 9,
   "id": "1b5b4a14",
   "metadata": {},
   "outputs": [],
   "source": [
    "# Get requests links \n",
    "import requests\n",
    "\n",
    "# Convert text to elements \n",
    "from bs4 import BeautifulSoup\n",
    "\n",
    "# Create and store Data to csv file\n",
    "import csv\n",
    "\n",
    "# Sleep some time\n",
    "import time\n",
    "\n",
    "# Pandas Data Frame\n",
    "import pandas as pd"
   ]
  },
  {
   "cell_type": "markdown",
   "id": "1926fb85",
   "metadata": {},
   "source": [
    "2- Start to scrape data we need. <br><strong>[ Job Titles | Job Skills | Company Names | Location Names ]</strong>"
   ]
  },
  {
   "cell_type": "markdown",
   "id": "84bd673a",
   "metadata": {},
   "source": [
    "2-1- Scrape the feature data and store it in the CSV file"
   ]
  },
  {
   "cell_type": "code",
   "execution_count": null,
   "id": "84376293",
   "metadata": {},
   "outputs": [],
   "source": [
    "with open('Data Scraped/wuzzaf_jobs.csv','w') as wuzzaf:\n",
    "    wr = csv.writer(wuzzaf)\n",
    "    wr.writerow(['JobTitles','JobSkills','CompanyNames','LocationNames'])\n",
    "    \n",
    "    # Number of pages have the all jobs\n",
    "    for i in range(14):   \n",
    "        if i != 0:\n",
    "            # Concatinate counter with pages\n",
    "            url = 'https://wuzzuf.net/search/jobs/?a=hpb&q=python&start='+str(i)\n",
    "        else:\n",
    "            url = 'https://wuzzuf.net/search/jobs/?q=python&a=hpb'\n",
    "\n",
    "        # Get request\n",
    "        result = requests.get(url)\n",
    "\n",
    "        # Get the content\n",
    "        content = result.content\n",
    "\n",
    "        # Create soup object\n",
    "        soup = BeautifulSoup(content,'lxml')\n",
    "\n",
    "        # scrape Job Sections\n",
    "        job_sections = soup.find_all('div',{'class':'css-1gatmva e1v1l3u10'})\n",
    "\n",
    "\n",
    "\n",
    "        # Loop in the elements to scrape values\n",
    "        for i in range(len(job_sections)):\n",
    "\n",
    "            # Job Title\n",
    "            job_title = job_sections[i].find('h2',{'class':'css-m604qf'}).text\n",
    "            job_title = job_title.replace('/','').strip()\n",
    "\n",
    "            # Company Name\n",
    "            company_name = job_sections[i].find('a',{'class':'css-17s97q8'}).text\n",
    "            company_name = company_name.replace('-','').strip()\n",
    "\n",
    "            # Location Name\n",
    "            location_name = job_sections[i].find('span',{'class':'css-5wys0k'}).text\n",
    "            location_name = location_name.replace('.','').strip()\n",
    "\n",
    "            # Job Skille\n",
    "            skills = job_sections[i].find_all('a',{'class':'css-5x9pm1'})\n",
    "            all_skills_single_job = []\n",
    "            # Get Skills as single text\n",
    "            for j in skills:\n",
    "                all_skills_single_job.append(j.text.replace('·','').strip())\n",
    "            job_skills = ','.join(all_skills_single_job)\n",
    "\n",
    "            # write in CSV file\n",
    "            wr.writerow([job_title, job_skills, company_name, location_name])\n",
    "\n",
    "            # Sleep the code\n",
    "        time.sleep(5)"
   ]
  },
  {
   "cell_type": "markdown",
   "id": "686b009c",
   "metadata": {},
   "source": [
    "3- See the data"
   ]
  },
  {
   "cell_type": "code",
   "execution_count": null,
   "id": "4ed62070",
   "metadata": {},
   "outputs": [],
   "source": [
    "scraped_data = pd.read_csv('Data Scraped/wuzzaf_jobs.csv').head()\n",
    "scraped_data"
   ]
  },
  {
   "cell_type": "code",
   "execution_count": null,
   "id": "80ab1f67",
   "metadata": {},
   "outputs": [],
   "source": []
  }
 ],
 "metadata": {
  "kernelspec": {
   "display_name": "Python 3 (ipykernel)",
   "language": "python",
   "name": "python3"
  },
  "language_info": {
   "codemirror_mode": {
    "name": "ipython",
    "version": 3
   },
   "file_extension": ".py",
   "mimetype": "text/x-python",
   "name": "python",
   "nbconvert_exporter": "python",
   "pygments_lexer": "ipython3",
   "version": "3.9.7"
  }
 },
 "nbformat": 4,
 "nbformat_minor": 5
}
