{
 "cells": [
  {
   "cell_type": "markdown",
   "id": "bca73cd4",
   "metadata": {},
   "source": [
    "### Scrape Jobs Data From Wuzzaf site"
   ]
  },
  {
   "cell_type": "markdown",
   "id": "2cf4048a",
   "metadata": {},
   "source": [
    "1- Import Necessary Libraries"
   ]
  },
  {
   "cell_type": "code",
   "execution_count": 3,
   "id": "1b5b4a14",
   "metadata": {},
   "outputs": [],
   "source": [
    "# Get requests links \n",
    "import requests\n",
    "\n",
    "# Convert text to elements \n",
    "from bs4 import BeautifulSoup\n",
    "\n",
    "# Create and store Data to csv file\n",
    "import csv\n",
    "\n",
    "# Sleep some time\n",
    "import time\n",
    "\n",
    "# Pandas Data Frame\n",
    "import pandas as pd"
   ]
  },
  {
   "cell_type": "markdown",
   "id": "1926fb85",
   "metadata": {},
   "source": [
    "5- Start to scrape data we need. <br><strong>[ Job Titles | Job Skills | Company Names | Location Names ]</strong>"
   ]
  },
  {
   "cell_type": "markdown",
   "id": "58c6b3f2",
   "metadata": {},
   "source": [
    "5-1- Create CSV File"
   ]
  },
  {
   "cell_type": "markdown",
   "id": "84bd673a",
   "metadata": {},
   "source": [
    "5-2- Scrape the feature data and store it in the CSV file"
   ]
  },
  {
   "cell_type": "code",
   "execution_count": 6,
   "id": "84376293",
   "metadata": {},
   "outputs": [],
   "source": [
    "with open('Data Scraped/wuzzaf_jobs.csv','w') as wuzzaf:\n",
    "    wr = csv.writer(wuzzaf)\n",
    "    wr.writerow(['JobTitles','JobSkills','CompanyNames','LocationNames'])\n",
    "    \n",
    "    # Number of pages have the all jobs\n",
    "    for i in range(14):   \n",
    "        if i != 0:\n",
    "            # Concatinate counter with pages\n",
    "            url = 'https://wuzzuf.net/search/jobs/?a=hpb&q=python&start='+str(i)\n",
    "        else:\n",
    "            url = 'https://wuzzuf.net/search/jobs/?q=python&a=hpb'\n",
    "\n",
    "        # Get request\n",
    "        result = requests.get(url)\n",
    "\n",
    "        # Get the content\n",
    "        content = result.content\n",
    "\n",
    "        # Create soup object\n",
    "        soup = BeautifulSoup(content,'lxml')\n",
    "\n",
    "        # scrape Job Sections\n",
    "        job_sections = soup.find_all('div',{'class':'css-1gatmva e1v1l3u10'})\n",
    "\n",
    "\n",
    "\n",
    "        # Loop in the elements to scrape values\n",
    "        for i in range(len(job_sections)):\n",
    "\n",
    "            # Job Title\n",
    "            job_title = job_sections[i].find('h2',{'class':'css-m604qf'}).text\n",
    "            job_title = job_title.replace('/','').strip()\n",
    "\n",
    "            # Company Name\n",
    "            company_name = job_sections[i].find('a',{'class':'css-17s97q8'}).text\n",
    "            company_name = company_name.replace('-','').strip()\n",
    "\n",
    "            # Location Name\n",
    "            location_name = job_sections[i].find('span',{'class':'css-5wys0k'}).text\n",
    "            location_name = location_name.replace('.','').strip()\n",
    "\n",
    "            # Job Skille\n",
    "            skills = job_sections[i].find_all('a',{'class':'css-5x9pm1'})\n",
    "            all_skills_single_job = []\n",
    "            # Get Skills as single text\n",
    "            for j in skills:\n",
    "                all_skills_single_job.append(j.text.replace('·','').strip())\n",
    "            job_skills = ','.join(all_skills_single_job)\n",
    "\n",
    "            # write in CSV file\n",
    "            wr.writerow([job_title, company_name, location_name, job_skills])\n",
    "\n",
    "            # Sleep the code\n",
    "        time.sleep(5)"
   ]
  },
  {
   "cell_type": "code",
   "execution_count": null,
   "id": "a311140a",
   "metadata": {},
   "outputs": [],
   "source": []
  },
  {
   "cell_type": "code",
   "execution_count": 8,
   "id": "4ed62070",
   "metadata": {},
   "outputs": [
    {
     "data": {
      "text/html": [
       "<div>\n",
       "<style scoped>\n",
       "    .dataframe tbody tr th:only-of-type {\n",
       "        vertical-align: middle;\n",
       "    }\n",
       "\n",
       "    .dataframe tbody tr th {\n",
       "        vertical-align: top;\n",
       "    }\n",
       "\n",
       "    .dataframe thead th {\n",
       "        text-align: right;\n",
       "    }\n",
       "</style>\n",
       "<table border=\"1\" class=\"dataframe\">\n",
       "  <thead>\n",
       "    <tr style=\"text-align: right;\">\n",
       "      <th></th>\n",
       "      <th>JobTitles</th>\n",
       "      <th>JobSkills</th>\n",
       "      <th>CompanyNames</th>\n",
       "      <th>LocationNames</th>\n",
       "    </tr>\n",
       "  </thead>\n",
       "  <tbody>\n",
       "    <tr>\n",
       "      <th>0</th>\n",
       "      <td>Senior Python Engineer</td>\n",
       "      <td>Brainology</td>\n",
       "      <td>Cairo, Egypt</td>\n",
       "      <td>Python,Computer Science,Information Technology...</td>\n",
       "    </tr>\n",
       "    <tr>\n",
       "      <th>1</th>\n",
       "      <td>Senior Software Engineer - Python</td>\n",
       "      <td>Paymob Solutions</td>\n",
       "      <td>Maadi, Cairo, Egypt</td>\n",
       "      <td>Python,Computer Science,Software Engineering,F...</td>\n",
       "    </tr>\n",
       "    <tr>\n",
       "      <th>2</th>\n",
       "      <td>Python Tech Lead</td>\n",
       "      <td>Eastern Enterprise</td>\n",
       "      <td>Cairo, Egypt</td>\n",
       "      <td>Information Technology (IT),Git,Python,Program...</td>\n",
       "    </tr>\n",
       "    <tr>\n",
       "      <th>3</th>\n",
       "      <td>Senior Backend (Python) Engineer - Customer Do...</td>\n",
       "      <td>Nana</td>\n",
       "      <td>Sheraton, Cairo, Egypt</td>\n",
       "      <td>Python,Django,Flask,backend,Agile,Programming,...</td>\n",
       "    </tr>\n",
       "    <tr>\n",
       "      <th>4</th>\n",
       "      <td>Experienced PythonDjango Developer</td>\n",
       "      <td>Infoblink</td>\n",
       "      <td>Dokki, Giza, Egypt</td>\n",
       "      <td>Django,GitHUB,CSS,HTML,SaaS,Python,Information...</td>\n",
       "    </tr>\n",
       "  </tbody>\n",
       "</table>\n",
       "</div>"
      ],
      "text/plain": [
       "                                           JobTitles           JobSkills  \\\n",
       "0                             Senior Python Engineer          Brainology   \n",
       "1                  Senior Software Engineer - Python    Paymob Solutions   \n",
       "2                                   Python Tech Lead  Eastern Enterprise   \n",
       "3  Senior Backend (Python) Engineer - Customer Do...                Nana   \n",
       "4                 Experienced PythonDjango Developer           Infoblink   \n",
       "\n",
       "             CompanyNames                                      LocationNames  \n",
       "0            Cairo, Egypt  Python,Computer Science,Information Technology...  \n",
       "1     Maadi, Cairo, Egypt  Python,Computer Science,Software Engineering,F...  \n",
       "2            Cairo, Egypt  Information Technology (IT),Git,Python,Program...  \n",
       "3  Sheraton, Cairo, Egypt  Python,Django,Flask,backend,Agile,Programming,...  \n",
       "4      Dokki, Giza, Egypt  Django,GitHUB,CSS,HTML,SaaS,Python,Information...  "
      ]
     },
     "execution_count": 8,
     "metadata": {},
     "output_type": "execute_result"
    }
   ],
   "source": [
    "scraped_data = pd.read_csv('Data Scraped/wuzzaf_jobs.csv').head()\n",
    "scraped_data"
   ]
  },
  {
   "cell_type": "code",
   "execution_count": null,
   "id": "82142757",
   "metadata": {},
   "outputs": [],
   "source": []
  }
 ],
 "metadata": {
  "kernelspec": {
   "display_name": "Python 3 (ipykernel)",
   "language": "python",
   "name": "python3"
  },
  "language_info": {
   "codemirror_mode": {
    "name": "ipython",
    "version": 3
   },
   "file_extension": ".py",
   "mimetype": "text/x-python",
   "name": "python",
   "nbconvert_exporter": "python",
   "pygments_lexer": "ipython3",
   "version": "3.9.7"
  }
 },
 "nbformat": 4,
 "nbformat_minor": 5
}
